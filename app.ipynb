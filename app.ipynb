{
 "cells": [
  {
   "cell_type": "code",
   "execution_count": null,
   "metadata": {
    "collapsed": true
   },
   "outputs": [],
   "source": [
    "from twitter_keys import Access_Token, Access_Token_Secret, Consumer_Key, Consumer_API_Secret, api_key\n",
    "import tweepy\n",
    "import json\n",
    "import requests as r"
   ]
  },
  {
   "cell_type": "code",
   "execution_count": null,
   "metadata": {
    "collapsed": true
   },
   "outputs": [],
   "source": [
    "auth = tweepy.OAuthHandler(Consumer_Key, Consumer_API_Secret)\n",
    "auth.set_access_token(Access_Token, Access_Token_Secret)\n",
    "api = tweepy.API(auth, parser=tweepy.parsers.JSONParser())"
   ]
  },
  {
   "cell_type": "code",
   "execution_count": null,
   "metadata": {},
   "outputs": [],
   "source": [
    "public_tweets = api.search('@enveraai', count = 1, result_type = 'recent')\n",
    "public_tweets"
   ]
  },
  {
   "cell_type": "code",
   "execution_count": null,
   "metadata": {
    "collapsed": true
   },
   "outputs": [],
   "source": [
    "tweet_text = public_tweets['statuses'][0]['text']\n",
    "tweet_id = public_tweets['statuses'][0]['id']\n",
    "tweet_screen_name = public_tweets['statuses'][0]['user']['screen_name']\n",
    "tweet_hash_tag = public_tweets['statuses'][0]['entities']['hashtags'][0]['text']"
   ]
  },
  {
   "cell_type": "code",
   "execution_count": null,
   "metadata": {},
   "outputs": [],
   "source": [
    "print('Last Tweet: ', tweet_text)\n",
    "print('Last Tweet ID: ', tweet_id)\n",
    "print('Last Tweet Screen Name: ', tweet_screen_name)\n",
    "print('Last Tweet Hash Tag: ', tweet_hash_tag)"
   ]
  },
  {
   "cell_type": "code",
   "execution_count": null,
   "metadata": {},
   "outputs": [],
   "source": [
    "#Get Weather in hashtag city.\n",
    "units = 'units=imperial'\n",
    "url = 'http://api.openweathermap.org/data/2.5/weather?q='\n",
    "city = tweet_hash_tag\n",
    "country = 'us'\n",
    "query_url = url + city + ',' + country + '&' + units + api_key\n",
    "query_url"
   ]
  },
  {
   "cell_type": "code",
   "execution_count": null,
   "metadata": {
    "collapsed": true
   },
   "outputs": [],
   "source": [
    "response = r.get(query_url).json()\n",
    "current_temp = response['main']['temp']\n",
    "description = response['weather'][0]['description']"
   ]
  },
  {
   "cell_type": "code",
   "execution_count": null,
   "metadata": {
    "collapsed": true
   },
   "outputs": [],
   "source": [
    "reply_text = 'Thanks for the tweet' + ' @' + tweet_screen_name \\\n",
    "+ ' the weather in ' + tweet_hash_tag + ' is ' + str(current_temp) + ' F' + ' and ' + description"
   ]
  },
  {
   "cell_type": "code",
   "execution_count": null,
   "metadata": {},
   "outputs": [],
   "source": [
    "reply_text"
   ]
  },
  {
   "cell_type": "code",
   "execution_count": null,
   "metadata": {
    "collapsed": true
   },
   "outputs": [],
   "source": [
    "response_tweet = api.update_status(reply_text, in_reply_to_status_id = tweet_id)"
   ]
  },
  {
   "cell_type": "code",
   "execution_count": null,
   "metadata": {},
   "outputs": [],
   "source": [
    "def twitter_app():\n",
    "\n",
    "    from twitter_keys import Access_Token, Access_Token_Secret, Consumer_Key, Consumer_API_Secret, api_key\n",
    "    import tweepy\n",
    "    import json\n",
    "    import requests as r\n",
    "\n",
    "    auth = tweepy.OAuthHandler(Consumer_Key, Consumer_API_Secret)\n",
    "    auth.set_access_token(Access_Token, Access_Token_Secret)\n",
    "    api = tweepy.API(auth, parser=tweepy.parsers.JSONParser())\n",
    "\n",
    "    public_tweets = api.search('@grantaguinaldo', count = 1, result_type = 'recent')\n",
    "\n",
    "    tweet_text = public_tweets['statuses'][0]['text']\n",
    "    tweet_id = public_tweets['statuses'][0]['id']\n",
    "    tweet_screen_name = public_tweets['statuses'][0]['user']['screen_name']\n",
    "    tweet_hash_tag = public_tweets['statuses'][0]['entities']['hashtags'][0]['text']\n",
    "\n",
    "    units = 'units=imperial'\n",
    "    url = 'http://api.openweathermap.org/data/2.5/weather?q='\n",
    "    city = tweet_hash_tag\n",
    "    country = 'us'\n",
    "    query_url = url + city + ',' + country + '&' + units + api_key\n",
    "\n",
    "    response = r.get(query_url).json()\n",
    "    current_temp = response['main']['temp']\n",
    "    description = response['weather'][0]['description']\n",
    "\n",
    "    reply_text = 'Thanks for the tweet' + ' @' + tweet_screen_name + ' the weather in ' + tweet_hash_tag + ' is ' + str(current_temp) + 'F' + ' and ' + description\n",
    "\n",
    "    return api.update_status(reply_text, in_reply_to_status_id = tweet_id)"
   ]
  },
  {
   "cell_type": "code",
   "execution_count": null,
   "metadata": {},
   "outputs": [],
   "source": []
  },
  {
   "cell_type": "code",
   "execution_count": null,
   "metadata": {},
   "outputs": [],
   "source": [
    "while(True):\n",
    "    import time\n",
    "    from try_block import *\n",
    "    #from except_block import *\n",
    "    \n",
    "    try:\n",
    "        app_v2()\n",
    "        print('Success!')\n",
    "    \n",
    "    except:\n",
    "        #except_block()\n",
    "        print('Sorry let me check again in 3 seconds')\n",
    "    time.sleep(3)"
   ]
  },
  {
   "cell_type": "code",
   "execution_count": null,
   "metadata": {
    "collapsed": true
   },
   "outputs": [],
   "source": []
  },
  {
   "cell_type": "code",
   "execution_count": null,
   "metadata": {
    "collapsed": true
   },
   "outputs": [],
   "source": []
  }
 ],
 "metadata": {
  "kernelspec": {
   "display_name": "Python 3",
   "language": "python",
   "name": "python3"
  },
  "language_info": {
   "codemirror_mode": {
    "name": "ipython",
    "version": 3
   },
   "file_extension": ".py",
   "mimetype": "text/x-python",
   "name": "python",
   "nbconvert_exporter": "python",
   "pygments_lexer": "ipython3",
   "version": "3.6.3"
  }
 },
 "nbformat": 4,
 "nbformat_minor": 2
}
